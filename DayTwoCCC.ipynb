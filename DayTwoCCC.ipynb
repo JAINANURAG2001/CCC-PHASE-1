{
 "cells": [
  {
   "cell_type": "code",
   "execution_count": 1,
   "metadata": {},
   "outputs": [
    {
     "name": "stdout",
     "output_type": "stream",
     "text": [
      "<class 'tuple'>\n"
     ]
    }
   ],
   "source": [
    "l = [\"p\",\"q\"];\n",
    "n = 3 \n",
    "t = (1,2,3)\n",
    "print(type(t))"
   ]
  },
  {
   "cell_type": "code",
   "execution_count": null,
   "metadata": {},
   "outputs": [],
   "source": [
    "# What is the meaning of hashable object?\n",
    "# An object is said to be hashable if it has a hash value that remains the same during its lifetime"
   ]
  },
  {
   "cell_type": "code",
   "execution_count": 3,
   "metadata": {
    "slideshow": {
     "slide_type": "slide"
    }
   },
   "outputs": [
    {
     "name": "stdout",
     "output_type": "stream",
     "text": [
      "['__add__', '__class__', '__contains__', '__delattr__', '__dir__', '__doc__', '__eq__', '__format__', '__ge__', '__getattribute__', '__getitem__', '__getnewargs__', '__getstate__', '__gt__', '__hash__', '__init__', '__init_subclass__', '__iter__', '__le__', '__len__', '__lt__', '__mod__', '__mul__', '__ne__', '__new__', '__reduce__', '__reduce_ex__', '__repr__', '__rmod__', '__rmul__', '__setattr__', '__sizeof__', '__str__', '__subclasshook__', 'capitalize', 'casefold', 'center', 'count', 'encode', 'endswith', 'expandtabs', 'find', 'format', 'format_map', 'index', 'isalnum', 'isalpha', 'isascii', 'isdecimal', 'isdigit', 'isidentifier', 'islower', 'isnumeric', 'isprintable', 'isspace', 'istitle', 'isupper', 'join', 'ljust', 'lower', 'lstrip', 'maketrans', 'partition', 'removeprefix', 'removesuffix', 'replace', 'rfind', 'rindex', 'rjust', 'rpartition', 'rsplit', 'rstrip', 'split', 'splitlines', 'startswith', 'strip', 'swapcase', 'title', 'translate', 'upper', 'zfill']\n"
     ]
    }
   ],
   "source": [
    "print(dir(str))"
   ]
  },
  {
   "cell_type": "code",
   "execution_count": 4,
   "metadata": {},
   "outputs": [
    {
     "name": "stdout",
     "output_type": "stream",
     "text": [
      "Divyanshu yadav\n",
      "dIVYANSHU yADAV\n",
      "Divyanshu Yadav\n",
      "DIVYANSHU YADAV\n",
      "divyanshu yadav\n"
     ]
    }
   ],
   "source": [
    "s=\"Divyanshu Yadav\"\n",
    "print(s.capitalize())\n",
    "print(s.swapcase())\n",
    "print(s.title())\n",
    "print(s.upper())\n",
    "print(s.lower())"
   ]
  },
  {
   "cell_type": "code",
   "execution_count": 13,
   "metadata": {},
   "outputs": [
    {
     "name": "stdout",
     "output_type": "stream",
     "text": [
      "000000000000000Divyanshu Yadav\n",
      ".. ✅✅✅✅✅✅✅Divyanshu Yadav✅✅✅✅✅✅✅✅ ..\n",
      "               Divyanshu Yadav\n",
      "Divyanshu Yadav               \n"
     ]
    }
   ],
   "source": [
    "s=\"Divyanshu Yadav\"\n",
    "print(s.zfill(30))\n",
    "print(\"..\",s.center(30,\"✅\"),\"..\")\n",
    "print(s.rjust(30))\n",
    "print(s.ljust(30))"
   ]
  },
  {
   "cell_type": "code",
   "execution_count": 14,
   "metadata": {},
   "outputs": [
    {
     "name": "stdout",
     "output_type": "stream",
     "text": [
      "4\n",
      "4\n",
      "13\n",
      "13\n"
     ]
    }
   ],
   "source": [
    "s=\"Divyanshu Yadav\"\n",
    "print(s.index('a'))\n",
    "#returns an error if doesn't exist\n",
    "print(s.find('a'))\n",
    "#returns -1 if not exist\n",
    "print(s.rindex('a'))\n",
    "print(s.rfind('a'))"
   ]
  },
  {
   "cell_type": "code",
   "execution_count": 17,
   "metadata": {},
   "outputs": [
    {
     "name": "stdout",
     "output_type": "stream",
     "text": [
      "['Divyanshu', 'Yadav', 'RA2111003010693']\n",
      "['Divyanshu', 'Yadav RA2111003010693']\n",
      "['Divyanshu', 'Yadav', 'RA2111003010693']\n",
      "['Divyanshu Yadav', 'RA2111003010693']\n"
     ]
    }
   ],
   "source": [
    "s=\"Divyanshu Yadav RA2111003010693\"\n",
    "print(s.split())\n",
    "print(s.split(' ',1))\n",
    "print(s.rsplit())\n",
    "print(s.rsplit(' ',1))"
   ]
  },
  {
   "cell_type": "code",
   "execution_count": 25,
   "metadata": {},
   "outputs": [
    {
     "name": "stdout",
     "output_type": "stream",
     "text": [
      "Divyanshu Yadav\n"
     ]
    }
   ],
   "source": [
    "s=[\"Divyanshu\" ,\"Yadav\"]\n",
    "print(' '.join(s))"
   ]
  },
  {
   "cell_type": "code",
   "execution_count": 34,
   "metadata": {},
   "outputs": [
    {
     "name": "stdout",
     "output_type": "stream",
     "text": [
      "speech to text sample ['sample', 'text', 'to', 'speech']\n"
     ]
    }
   ],
   "source": [
    "s=\"sample text to speech\"\n",
    "s=s.split(\" \")\n",
    "for values in range(len(s)-1,-1,-1):\n",
    "    print(s[values],end=\" \")\n",
    "print(s)"
   ]
  },
  {
   "cell_type": "code",
   "execution_count": 35,
   "metadata": {},
   "outputs": [
    {
     "name": "stdout",
     "output_type": "stream",
     "text": [
      "speech to text sample\n"
     ]
    }
   ],
   "source": [
    "s=\"sample text to speech\"\n",
    "print(' '.join(s.split()[::-1]))"
   ]
  },
  {
   "cell_type": "code",
   "execution_count": 40,
   "metadata": {},
   "outputs": [
    {
     "name": "stdout",
     "output_type": "stream",
     "text": [
      "elpmas txet ot hceeps\n"
     ]
    }
   ],
   "source": [
    "s=\"sample text to speech\"\n",
    "rs=' '.join(s[::-1].split()[::-1])\n",
    "print(rs)"
   ]
  },
  {
   "cell_type": "code",
   "execution_count": 58,
   "metadata": {},
   "outputs": [
    {
     "name": "stdout",
     "output_type": "stream",
     "text": [
      "3 Virag\n",
      "3 Virag\n",
      "3 Virag\n",
      "4 Sarah\n",
      "4 Sarah\n"
     ]
    }
   ],
   "source": [
    "s=input(\"Enter your name:\")\n",
    "n=int(input(\"You number of friends\"))\n",
    "count=0\n",
    "bestfriend=\"\"\n",
    "for outer in range(n):\n",
    "    name=input(\"Enter your friend's name:\")\n",
    "    localcount=0\n",
    "    for inner in range(len(name)):\n",
    "        found=True\n",
    "        for innermost in range(len(s)):\n",
    "            if(s[innermost]==name[inner] and found):\n",
    "                localcount+=1\n",
    "                found=False\n",
    "            if(localcount>count):\n",
    "                count=localcount\n",
    "                bestfriend=name\n",
    "    print(count, bestfriend)\n",
    "\n",
    "print(count,bestfriend)"
   ]
  },
  {
   "cell_type": "code",
   "execution_count": 5,
   "metadata": {},
   "outputs": [
    {
     "name": "stdout",
     "output_type": "stream",
     "text": [
      "[2, 5, 7, 4, 5, 6]\n"
     ]
    }
   ],
   "source": [
    "l=[2,7]\n",
    "l.append(4)\n",
    "l.extend([5,6])\n",
    "l.insert(1,5)\n",
    "print(l)"
   ]
  },
  {
   "cell_type": "code",
   "execution_count": 6,
   "metadata": {},
   "outputs": [
    {
     "name": "stdout",
     "output_type": "stream",
     "text": [
      "3\n",
      "[2, 5, 8, 9]\n"
     ]
    }
   ],
   "source": [
    "l=[2,5,8,9,3]\n",
    "print(l.pop())\n",
    "print(l)"
   ]
  },
  {
   "cell_type": "code",
   "execution_count": 4,
   "metadata": {},
   "outputs": [
    {
     "name": "stdout",
     "output_type": "stream",
     "text": [
      "[2, 7, 'Hello']\n",
      "[2, 7, 'Hello', 'H', 'e', 'l', 'l', 'o']\n"
     ]
    }
   ],
   "source": [
    "l = [2, 7]\n",
    "l.append(\"Hello\")\n",
    "print(l)\n",
    "l.extend(\"Hello\")\n",
    "print(l)\n"
   ]
  },
  {
   "cell_type": "code",
   "execution_count": 7,
   "metadata": {},
   "outputs": [
    {
     "name": "stdout",
     "output_type": "stream",
     "text": [
      "['__add__', '__class__', '__class_getitem__', '__contains__', '__delattr__', '__dir__', '__doc__', '__eq__', '__format__', '__ge__', '__getattribute__', '__getitem__', '__getnewargs__', '__getstate__', '__gt__', '__hash__', '__init__', '__init_subclass__', '__iter__', '__le__', '__len__', '__lt__', '__mul__', '__ne__', '__new__', '__reduce__', '__reduce_ex__', '__repr__', '__rmul__', '__setattr__', '__sizeof__', '__str__', '__subclasshook__', 'count', 'index']\n"
     ]
    }
   ],
   "source": [
    "print(dir(tuple))"
   ]
  },
  {
   "cell_type": "code",
   "execution_count": 8,
   "metadata": {},
   "outputs": [
    {
     "name": "stdout",
     "output_type": "stream",
     "text": [
      "{1: 1, 2: 4, 3: 9, 4: 16}\n"
     ]
    }
   ],
   "source": [
    "d={}\n",
    "n=4\n",
    "for i in range(1,n+1):\n",
    "    d[i]=i*i\n",
    "print(d)"
   ]
  },
  {
   "cell_type": "code",
   "execution_count": null,
   "metadata": {},
   "outputs": [],
   "source": [
    "d = {}\n",
    "n = 4\n",
    "for i in range(1, n+1):\n",
    "    d[i] = i*i\n",
    "print(d)"
   ]
  },
  {
   "cell_type": "code",
   "execution_count": 9,
   "metadata": {},
   "outputs": [
    {
     "name": "stdout",
     "output_type": "stream",
     "text": [
      "{1: 1, 2: 4, 3: 9}\n"
     ]
    }
   ],
   "source": [
    "l=[(1,1),(2,4),(3,9)]\n",
    "d=dict(l)\n",
    "print(d)"
   ]
  },
  {
   "cell_type": "code",
   "execution_count": 11,
   "metadata": {},
   "outputs": [
    {
     "name": "stdout",
     "output_type": "stream",
     "text": [
      "{1: 1, 2: 4, 3: 9}\n"
     ]
    }
   ],
   "source": [
    "l = [(1, 1), (4, 2), (9, 3)]\n",
    "d = dict((y,x) for x,y in l) \n",
    "print(d)\n"
   ]
  },
  {
   "cell_type": "code",
   "execution_count": 12,
   "metadata": {},
   "outputs": [
    {
     "name": "stdout",
     "output_type": "stream",
     "text": [
      "Python by CCC\n"
     ]
    }
   ],
   "source": [
    "course=\"Python\"\n",
    "org=\"CCC\"\n",
    "s= '{} by {}'.format(course,org)\n",
    "print(s)"
   ]
  },
  {
   "cell_type": "code",
   "execution_count": 15,
   "metadata": {},
   "outputs": [
    {
     "name": "stdout",
     "output_type": "stream",
     "text": [
      "['p1', 'q1', 'p2', 'q2']\n"
     ]
    }
   ],
   "source": [
    "l=['p','q']\n",
    "n=2\n",
    "res=['{}{}'.format(i,j) for j in range(1,n+1) for i in l]\n",
    "#op:[p1,q1,p2,q2]\n",
    "print(res)"
   ]
  },
  {
   "cell_type": "code",
   "execution_count": 26,
   "metadata": {},
   "outputs": [
    {
     "name": "stdout",
     "output_type": "stream",
     "text": [
      "True\n"
     ]
    }
   ],
   "source": [
    "def lucky(n):\n",
    "    if(n<10):\n",
    "        return n\n",
    "    else:\n",
    "        return lucky(sum(n))\n",
    "def sum(n):\n",
    "    s=0\n",
    "    while(n!=0):\n",
    "        d=n%10\n",
    "        s+=d\n",
    "        n=n//10\n",
    "    return s\n",
    "s=\"TN01EA2345\"\n",
    "l=5\n",
    "s=int(s[6:])\n",
    "# print(type(s),type(l))\n",
    "print(lucky(s)==l)"
   ]
  },
  {
   "cell_type": "code",
   "execution_count": 27,
   "metadata": {},
   "outputs": [
    {
     "name": "stdout",
     "output_type": "stream",
     "text": [
      "['__class__', '__class_getitem__', '__contains__', '__delattr__', '__delitem__', '__dir__', '__doc__', '__eq__', '__format__', '__ge__', '__getattribute__', '__getitem__', '__getstate__', '__gt__', '__hash__', '__init__', '__init_subclass__', '__ior__', '__iter__', '__le__', '__len__', '__lt__', '__ne__', '__new__', '__or__', '__reduce__', '__reduce_ex__', '__repr__', '__reversed__', '__ror__', '__setattr__', '__setitem__', '__sizeof__', '__str__', '__subclasshook__', 'clear', 'copy', 'fromkeys', 'get', 'items', 'keys', 'pop', 'popitem', 'setdefault', 'update', 'values']\n"
     ]
    }
   ],
   "source": [
    "print(dir(dict()))"
   ]
  },
  {
   "cell_type": "code",
   "execution_count": 31,
   "metadata": {},
   "outputs": [
    {
     "name": "stdout",
     "output_type": "stream",
     "text": [
      "dict_keys(['org', 'loc'])\n",
      "dict_values(['ccc', 'hyd'])\n",
      "dict_items([('org', 'ccc'), ('loc', 'hyd')])\n"
     ]
    }
   ],
   "source": [
    "d={'org':'ccc','loc':'hyd'}\n",
    "print(d.keys())\n",
    "print(d.values())\n",
    "print(d.items())"
   ]
  },
  {
   "cell_type": "code",
   "execution_count": 37,
   "metadata": {},
   "outputs": [
    {
     "name": "stdout",
     "output_type": "stream",
     "text": [
      "not available\n"
     ]
    }
   ],
   "source": [
    "d={'org':'ccc','loc':'hyd'}\n",
    "# print(d['corg']) returns error if key doesn't exist\n",
    "print(d.get('corg',\"not available\")) # returns 'none' if key doesn't exist and takes default values too"
   ]
  },
  {
   "cell_type": "code",
   "execution_count": 40,
   "metadata": {},
   "outputs": [
    {
     "name": "stdout",
     "output_type": "stream",
     "text": [
      "NA\n",
      "{'org': 'ccc', 'loc': 'hyd', 'services': 'NA'}\n"
     ]
    }
   ],
   "source": [
    "d={'org':'ccc','loc':'hyd'}\n",
    "print(d.setdefault('services',\"NA\")) # id adds new key values pairs if it doesn't exists\n",
    "print(d)"
   ]
  },
  {
   "cell_type": "code",
   "execution_count": 43,
   "metadata": {},
   "outputs": [
    {
     "name": "stdout",
     "output_type": "stream",
     "text": [
      "{'name': '🃏', 'branch': '🃏', 'CGPA': '🃏'}\n"
     ]
    }
   ],
   "source": [
    "l=[\"name\",\"branch\",\"CGPA\"]\n",
    "d=dict.fromkeys(l,\"🃏\")\n",
    "print(d)"
   ]
  },
  {
   "cell_type": "code",
   "execution_count": 47,
   "metadata": {},
   "outputs": [
    {
     "name": "stdout",
     "output_type": "stream",
     "text": [
      "{'s': 2, 'a': 1, 'm': 1, 'p': 1, 'l': 1, 'e': 2, ' ': 2, 't': 3, 'x': 1, 'r': 1, 'i': 1, 'n': 1, 'g': 1}\n"
     ]
    }
   ],
   "source": [
    "s=\"sample text string\"\n",
    "d={}\n",
    "for ch in s:\n",
    "    d[ch]=d.get(ch,0)+1\n",
    "    # print(type(d.get(ch, 0)))\n",
    "print(d)"
   ]
  },
  {
   "cell_type": "code",
   "execution_count": 53,
   "metadata": {},
   "outputs": [
    {
     "name": "stdout",
     "output_type": "stream",
     "text": [
      "sachin\n"
     ]
    }
   ],
   "source": [
    "l= [\"sagar\",\"sachin\",\"virat\"]\n",
    "d={'s':1,'a':2,'g':1,'r':1}\n",
    "max,index=0,1\n",
    "for i in range(1,len(l)):\n",
    "    cc=0\n",
    "    for x in d.keys():\n",
    "        cc+=min(d[x],l[i].count(x))\n",
    "    if cc>max:\n",
    "        max=cc\n",
    "        index=i\n",
    "\n",
    "print(l[index])\n"
   ]
  }
 ],
 "metadata": {
  "kernelspec": {
   "display_name": "Python 3",
   "language": "python",
   "name": "python3"
  },
  "language_info": {
   "codemirror_mode": {
    "name": "ipython",
    "version": 3
   },
   "file_extension": ".py",
   "mimetype": "text/x-python",
   "name": "python",
   "nbconvert_exporter": "python",
   "pygments_lexer": "ipython3",
   "version": "3.11.0"
  },
  "orig_nbformat": 4
 },
 "nbformat": 4,
 "nbformat_minor": 2
}
